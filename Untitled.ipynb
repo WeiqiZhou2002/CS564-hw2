{
 "cells": [
  {
   "cell_type": "code",
   "execution_count": 4,
   "id": "e6b76ed9",
   "metadata": {},
   "outputs": [
    {
     "name": "stdout",
     "output_type": "stream",
     "text": [
      "The sql extension is already loaded. To reload it, use:\n",
      "  %reload_ext sql\n"
     ]
    }
   ],
   "source": [
    "%load_ext sql\n",
    "%sql sqlite:///AuctionBase.db"
   ]
  },
  {
   "cell_type": "code",
   "execution_count": 5,
   "id": "c0bf20fd",
   "metadata": {},
   "outputs": [
    {
     "name": "stdout",
     "output_type": "stream",
     "text": [
      "   sqlite:///:AuctionBase.db\n",
      " * sqlite:///AuctionBase.db\n",
      "Done.\n"
     ]
    },
    {
     "data": {
      "text/html": [
       "<table>\n",
       "    <thead>\n",
       "        <tr>\n",
       "            <th>sql</th>\n",
       "        </tr>\n",
       "    </thead>\n",
       "    <tbody>\n",
       "        <tr>\n",
       "            <td>CREATE TABLE User (<br>  UserId TEXT,<br>  rating INTEGER,<br>  Location TEXT,<br>  Country TEXT,<br>  PRIMARY KEY (UserId)<br>)</td>\n",
       "        </tr>\n",
       "        <tr>\n",
       "            <td>None</td>\n",
       "        </tr>\n",
       "        <tr>\n",
       "            <td>CREATE TABLE Item (<br>  ItemId INTEGER,<br>  name TEXT,<br>  UserId TEXT,<br>  Currently REAL,<br>  First_Bid REAL,<br>  Number_of_Bids INTEGER,<br>  Started DATETIME,<br>  End DATETIME,<br>  Description TEXT,<br>  PRIMARY KEY (ItemId),<br>  FOREIGN KEY (UserId) REFERENCES User (UserId)<br>)</td>\n",
       "        </tr>\n",
       "        <tr>\n",
       "            <td>CREATE TABLE Bid (<br>  ItemId INTEGER,<br>  UserId TEXT,<br>  BidTime DATETIME,<br>  Amount REAL,<br>  PRIMARY KEY (ItemId, UserId, BidTime),<br>  FOREIGN KEY (ItemId) REFERENCES Item (ItemId) FOREIGN KEY (UserId) REFERENCES User (UserId)<br>)</td>\n",
       "        </tr>\n",
       "        <tr>\n",
       "            <td>None</td>\n",
       "        </tr>\n",
       "        <tr>\n",
       "            <td>CREATE TABLE Category(<br>  ItemId INTEGER,<br>  Category_Name TEXT,<br>  PRIMARY KEY (ItemId, Category_Name),<br>  FOREIGN KEY (ItemId) REFERENCES Item (ItemId)<br>)</td>\n",
       "        </tr>\n",
       "        <tr>\n",
       "            <td>None</td>\n",
       "        </tr>\n",
       "    </tbody>\n",
       "</table>"
      ],
      "text/plain": [
       "[('CREATE TABLE User (\\n  UserId TEXT,\\n  rating INTEGER,\\n  Location TEXT,\\n  Country TEXT,\\n  PRIMARY KEY (UserId)\\n)',),\n",
       " (None,),\n",
       " ('CREATE TABLE Item (\\n  ItemId INTEGER,\\n  name TEXT,\\n  UserId TEXT,\\n  Currently REAL,\\n  First_Bid REAL,\\n  Number_of_Bids INTEGER,\\n  Started DATETIME,\\n  End DATETIME,\\n  Description TEXT,\\n  PRIMARY KEY (ItemId),\\n  FOREIGN KEY (UserId) REFERENCES User (UserId)\\n)',),\n",
       " ('CREATE TABLE Bid (\\n  ItemId INTEGER,\\n  UserId TEXT,\\n  BidTime DATETIME,\\n  Amount REAL,\\n  PRIMARY KEY (ItemId, UserId, BidTime),\\n  FOREIGN KEY (ItemId) REFERENCES Item (ItemId) FOREIGN KEY (UserId) REFERENCES User (UserId)\\n)',),\n",
       " (None,),\n",
       " ('CREATE TABLE Category(\\n  ItemId INTEGER,\\n  Category_Name TEXT,\\n  PRIMARY KEY (ItemId, Category_Name),\\n  FOREIGN KEY (ItemId) REFERENCES Item (ItemId)\\n)',),\n",
       " (None,)]"
      ]
     },
     "execution_count": 5,
     "metadata": {},
     "output_type": "execute_result"
    }
   ],
   "source": [
    "%sql    SELECT sql FROM sqlite_master;"
   ]
  },
  {
   "cell_type": "code",
   "execution_count": 6,
   "id": "04e86ca8",
   "metadata": {},
   "outputs": [
    {
     "name": "stdout",
     "output_type": "stream",
     "text": [
      "   sqlite:///:AuctionBase.db\n",
      " * sqlite:///AuctionBase.db\n",
      "Done.\n"
     ]
    },
    {
     "data": {
      "text/html": [
       "<table>\n",
       "    <thead>\n",
       "        <tr>\n",
       "            <th>COUNT(*)</th>\n",
       "        </tr>\n",
       "    </thead>\n",
       "    <tbody>\n",
       "        <tr>\n",
       "            <td>13422</td>\n",
       "        </tr>\n",
       "    </tbody>\n",
       "</table>"
      ],
      "text/plain": [
       "[(13422,)]"
      ]
     },
     "execution_count": 6,
     "metadata": {},
     "output_type": "execute_result"
    }
   ],
   "source": [
    "%%sql\n",
    "    SELECT COUNT(*)\n",
    "    FROM User;"
   ]
  },
  {
   "cell_type": "code",
   "execution_count": 7,
   "id": "c0aa1f25",
   "metadata": {},
   "outputs": [
    {
     "name": "stdout",
     "output_type": "stream",
     "text": [
      "   sqlite:///:AuctionBase.db\n",
      " * sqlite:///AuctionBase.db\n",
      "Done.\n"
     ]
    },
    {
     "data": {
      "text/html": [
       "<table>\n",
       "    <thead>\n",
       "        <tr>\n",
       "            <th>COUNT(*)</th>\n",
       "        </tr>\n",
       "    </thead>\n",
       "    <tbody>\n",
       "        <tr>\n",
       "            <td>80</td>\n",
       "        </tr>\n",
       "    </tbody>\n",
       "</table>"
      ],
      "text/plain": [
       "[(80,)]"
      ]
     },
     "execution_count": 7,
     "metadata": {},
     "output_type": "execute_result"
    }
   ],
   "source": [
    "%%sql\n",
    "    SELECT COUNT(*)\n",
    "    FROM User\n",
    "    WHERE Location = 'New York';"
   ]
  },
  {
   "cell_type": "code",
   "execution_count": 8,
   "id": "2a594f81",
   "metadata": {},
   "outputs": [
    {
     "name": "stdout",
     "output_type": "stream",
     "text": [
      "   sqlite:///:AuctionBase.db\n",
      " * sqlite:///AuctionBase.db\n",
      "Done.\n"
     ]
    },
    {
     "data": {
      "text/html": [
       "<table>\n",
       "    <thead>\n",
       "        <tr>\n",
       "            <th>COUNT(*)</th>\n",
       "        </tr>\n",
       "    </thead>\n",
       "    <tbody>\n",
       "        <tr>\n",
       "            <td>8365</td>\n",
       "        </tr>\n",
       "    </tbody>\n",
       "</table>"
      ],
      "text/plain": [
       "[(8365,)]"
      ]
     },
     "execution_count": 8,
     "metadata": {},
     "output_type": "execute_result"
    }
   ],
   "source": [
    "%%sql\n",
    "    SELECT COUNT(*)\n",
    "    FROM (\n",
    "    SELECT COUNT(*) as Total\n",
    "    FROM Category\n",
    "    GROUP BY ItemId\n",
    "    ) as Cat\n",
    "    WHERE Cat.Total = 4;"
   ]
  },
  {
   "cell_type": "code",
   "execution_count": 11,
   "id": "70a65f7c",
   "metadata": {},
   "outputs": [
    {
     "name": "stdout",
     "output_type": "stream",
     "text": [
      "   sqlite:///:AuctionBase.db\n",
      " * sqlite:///AuctionBase.db\n",
      "Done.\n"
     ]
    },
    {
     "data": {
      "text/html": [
       "<table>\n",
       "    <thead>\n",
       "        <tr>\n",
       "            <th>ItemId</th>\n",
       "        </tr>\n",
       "    </thead>\n",
       "    <tbody>\n",
       "        <tr>\n",
       "            <td>1046709352</td>\n",
       "        </tr>\n",
       "    </tbody>\n",
       "</table>"
      ],
      "text/plain": [
       "[(1046709352,)]"
      ]
     },
     "execution_count": 11,
     "metadata": {},
     "output_type": "execute_result"
    }
   ],
   "source": [
    "%%sql\n",
    "    SELECT ItemId\n",
    "    FROM Item\n",
    "    ORDER BY Currently DESC\n",
    "    LIMIT 1;"
   ]
  },
  {
   "cell_type": "code",
   "execution_count": 15,
   "id": "fad48db4",
   "metadata": {},
   "outputs": [
    {
     "name": "stdout",
     "output_type": "stream",
     "text": [
      "   sqlite:///:AuctionBase.db\n",
      " * sqlite:///AuctionBase.db\n",
      "Done.\n"
     ]
    },
    {
     "data": {
      "text/html": [
       "<table>\n",
       "    <thead>\n",
       "        <tr>\n",
       "            <th>COUNT(*)</th>\n",
       "        </tr>\n",
       "    </thead>\n",
       "    <tbody>\n",
       "        <tr>\n",
       "            <td>3155</td>\n",
       "        </tr>\n",
       "    </tbody>\n",
       "</table>"
      ],
      "text/plain": [
       "[(3155,)]"
      ]
     },
     "execution_count": 15,
     "metadata": {},
     "output_type": "execute_result"
    }
   ],
   "source": [
    "%%sql\n",
    "    SELECT COUNT(*)\n",
    "    FROM User\n",
    "    WHERE rating > 1000;"
   ]
  },
  {
   "cell_type": "code",
   "execution_count": 16,
   "id": "9da21d69",
   "metadata": {},
   "outputs": [
    {
     "name": "stdout",
     "output_type": "stream",
     "text": [
      "   sqlite:///:AuctionBase.db\n",
      " * sqlite:///AuctionBase.db\n",
      "Done.\n"
     ]
    },
    {
     "data": {
      "text/html": [
       "<table>\n",
       "    <thead>\n",
       "        <tr>\n",
       "            <th>COUNT(DISTINCT(User.UserId))</th>\n",
       "        </tr>\n",
       "    </thead>\n",
       "    <tbody>\n",
       "        <tr>\n",
       "            <td>3606</td>\n",
       "        </tr>\n",
       "    </tbody>\n",
       "</table>"
      ],
      "text/plain": [
       "[(3606,)]"
      ]
     },
     "execution_count": 16,
     "metadata": {},
     "output_type": "execute_result"
    }
   ],
   "source": [
    "%%sql\n",
    "    SELECT COUNT(DISTINCT(User.UserId))\n",
    "    FROM User, Item, Bid\n",
    "    WHERE User.UserId = Item.UserId\n",
    "    AND User.UserId = Bid.UserId;"
   ]
  },
  {
   "cell_type": "code",
   "execution_count": 17,
   "id": "e5aa254c",
   "metadata": {},
   "outputs": [
    {
     "name": "stdout",
     "output_type": "stream",
     "text": [
      "   sqlite:///:AuctionBase.db\n",
      " * sqlite:///AuctionBase.db\n",
      "Done.\n"
     ]
    },
    {
     "data": {
      "text/html": [
       "<table>\n",
       "    <thead>\n",
       "        <tr>\n",
       "            <th>COUNT(DISTINCT(Category_Name))</th>\n",
       "        </tr>\n",
       "    </thead>\n",
       "    <tbody>\n",
       "        <tr>\n",
       "            <td>150</td>\n",
       "        </tr>\n",
       "    </tbody>\n",
       "</table>"
      ],
      "text/plain": [
       "[(150,)]"
      ]
     },
     "execution_count": 17,
     "metadata": {},
     "output_type": "execute_result"
    }
   ],
   "source": [
    "%%sql\n",
    "    SELECT COUNT(DISTINCT(Category_Name))\n",
    "    FROM Category,Bid\n",
    "    WHERE Category.ItemId = Bid.ItemId\n",
    "    AND Bid.Amount != \"NULL\"\n",
    "    AND Bid.Amount > 100;"
   ]
  },
  {
   "cell_type": "code",
   "execution_count": null,
   "id": "db186bb6",
   "metadata": {},
   "outputs": [],
   "source": []
  }
 ],
 "metadata": {
  "kernelspec": {
   "display_name": "Python 3 (ipykernel)",
   "language": "python",
   "name": "python3"
  },
  "language_info": {
   "codemirror_mode": {
    "name": "ipython",
    "version": 3
   },
   "file_extension": ".py",
   "mimetype": "text/x-python",
   "name": "python",
   "nbconvert_exporter": "python",
   "pygments_lexer": "ipython3",
   "version": "3.11.5"
  }
 },
 "nbformat": 4,
 "nbformat_minor": 5
}
